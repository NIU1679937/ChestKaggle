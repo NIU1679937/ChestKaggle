{
 "cells": [
  {
   "cell_type": "markdown",
   "metadata": {
    "id": "oZMnmdDBCl7F"
   },
   "source": [
    "# Cas Kaggle ApC\n",
    "## Participants\n",
    "Martí Armengod Villar \n",
    "\n",
    "Joan Marc Samó Rojas\n",
    "\n",
    "## Objectius\n",
    "\n",
    "https://www.kaggle.com/datasets/datasnaek/chess\n",
    "\n",
    "\n",
    "En la nostra Base de dades el que volem és ser capaços de predir quin jugador guanyara a partir de la seva llencçada inicial.\n",
    "\n"
   ]
  },
  {
   "cell_type": "markdown",
   "metadata": {},
   "source": [
    "Ara el que farem es importar les nostres dades i separar-les entre Train i Test per tal de evitar filtració de dades "
   ]
  },
  {
   "cell_type": "code",
   "execution_count": null,
   "metadata": {},
   "outputs": [],
   "source": [
    "import pandas as pd\n",
    "from sklearn.model_selection import train_test_split\n",
    "\n",
    "dades = pd.read_csv('games.csv')\n",
    "\n",
    "train_set, test_set = train_test_split(dades,random_state=42,test_size=0.2)\n",
    "X = train_set['data']\n",
    "y = train_set['target']\n",
    "\n",
    "\n"
   ]
  },
  {
   "cell_type": "code",
   "execution_count": 15,
   "metadata": {},
   "outputs": [
    {
     "name": "stdout",
     "output_type": "stream",
     "text": [
      "id                 object\n",
      "rated                bool\n",
      "created_at        float64\n",
      "last_move_at      float64\n",
      "turns               int64\n",
      "victory_status     object\n",
      "winner             object\n",
      "increment_code     object\n",
      "white_id           object\n",
      "white_rating        int64\n",
      "black_id           object\n",
      "black_rating        int64\n",
      "moves              object\n",
      "opening_eco        object\n",
      "opening_name       object\n",
      "opening_ply         int64\n",
      "dtype: object\n"
     ]
    }
   ],
   "source": [
    "tipus_atributs = train_set.dtypes\n",
    "print(tipus_atributs)\n"
   ]
  },
  {
   "cell_type": "markdown",
   "metadata": {},
   "source": [
    "Hem volgut assegurar-nos de si les nostres dades tenien o no Nans i tal i com haviem observat en la web del Kaggle no en tenim. Ho podem observar en la següent funcio de comprovacio de Nans, Cap columna te cap Nan."
   ]
  },
  {
   "cell_type": "code",
   "execution_count": 12,
   "metadata": {},
   "outputs": [
    {
     "name": "stdout",
     "output_type": "stream",
     "text": [
      "id                0\n",
      "rated             0\n",
      "created_at        0\n",
      "last_move_at      0\n",
      "turns             0\n",
      "victory_status    0\n",
      "winner            0\n",
      "increment_code    0\n",
      "white_id          0\n",
      "white_rating      0\n",
      "black_id          0\n",
      "black_rating      0\n",
      "moves             0\n",
      "opening_eco       0\n",
      "opening_name      0\n",
      "opening_ply       0\n",
      "dtype: int64\n"
     ]
    }
   ],
   "source": [
    "nans = train_set.isna().sum()\n",
    "\n",
    "print(nans)"
   ]
  },
  {
   "cell_type": "markdown",
   "metadata": {},
   "source": [
    "Ara el farem es veure quines columnes són les que necesitem per poder predir el que volem saber que és qui guanyara segons els primers moviments.\n",
    "\n",
    "Hem de tenir en compte que tenim columnes com per exemple la id de la partida que no ens aporta cap dada rellevant ja que es unica per cada partida i no podriem obtenir informació d'ella.\n",
    "\n",
    "També ens hem donat compte que tenim files identiques repetides multiples vegades aixi que avanç de res el que farem es eliminar les repeticons asegurant-nos de eliminar nomes les que son 100% iguals."
   ]
  },
  {
   "cell_type": "code",
   "execution_count": 28,
   "metadata": {},
   "outputs": [
    {
     "name": "stdout",
     "output_type": "stream",
     "text": [
      "Abans de treure duplicats: 20058 files\n",
      "Després de treure duplicats: 19629 files\n",
      "             id  rated    created_at  last_move_at  turns victory_status  \\\n",
      "0      TZJHLljE  False  1.504210e+12  1.504210e+12     13      outoftime   \n",
      "1      l1NXvwaE   True  1.504130e+12  1.504130e+12     16         resign   \n",
      "2      mIICvQHh   True  1.504130e+12  1.504130e+12     61           mate   \n",
      "3      kWKvrqYL   True  1.504110e+12  1.504110e+12     61           mate   \n",
      "4      9tXo1AUZ   True  1.504030e+12  1.504030e+12     95           mate   \n",
      "...         ...    ...           ...           ...    ...            ...   \n",
      "20053  EfqH7VVH   True  1.499791e+12  1.499791e+12     24         resign   \n",
      "20054  WSJDhbPl   True  1.499698e+12  1.499699e+12     82           mate   \n",
      "20055  yrAas0Kj   True  1.499698e+12  1.499698e+12     35           mate   \n",
      "20056  b0v4tRyF   True  1.499696e+12  1.499697e+12    109         resign   \n",
      "20057  N8G2JHGG   True  1.499643e+12  1.499644e+12     78           mate   \n",
      "\n",
      "      winner increment_code       white_id  white_rating            black_id  \\\n",
      "0      white           15+2       bourgris          1500                a-00   \n",
      "1      black           5+10           a-00          1322           skinnerua   \n",
      "2      white           5+10         ischia          1496                a-00   \n",
      "3      white           20+0  daniamurashov          1439        adivanov2009   \n",
      "4      white           30+3      nik221107          1523        adivanov2009   \n",
      "...      ...            ...            ...           ...                 ...   \n",
      "20053  white          10+10        belcolt          1691            jamboger   \n",
      "20054  black           10+0       jamboger          1233  farrukhasomiddinov   \n",
      "20055  white           10+0       jamboger          1219        schaaksmurf3   \n",
      "20056  white           10+0   marcodisogno          1360            jamboger   \n",
      "20057  black           10+0       jamboger          1235               ffbob   \n",
      "\n",
      "       black_rating                                              moves  \\\n",
      "0              1191  d4 d5 c4 c6 cxd5 e6 dxe6 fxe6 Nf3 Bb4+ Nc3 Ba5...   \n",
      "1              1261  d4 Nc6 e4 e5 f4 f6 dxe5 fxe5 fxe5 Nxe5 Qd4 Nc6...   \n",
      "2              1500  e4 e5 d3 d6 Be3 c6 Be2 b5 Nd2 a5 a4 c5 axb5 Nc...   \n",
      "3              1454  d4 d5 Nf3 Bf5 Nc3 Nf6 Bf4 Ng4 e3 Nc6 Be2 Qd7 O...   \n",
      "4              1469  e4 e5 Nf3 d6 d4 Nc6 d5 Nb4 a3 Na6 Nc3 Be7 b4 N...   \n",
      "...             ...                                                ...   \n",
      "20053          1220  d4 f5 e3 e6 Nf3 Nf6 Nc3 b6 Be2 Bb7 O-O Be7 Ne5...   \n",
      "20054          1196  d4 d6 Bf4 e5 Bg3 Nf6 e3 exd4 exd4 d5 c3 Bd6 Bd...   \n",
      "20055          1286  d4 d5 Bf4 Nc6 e3 Nf6 c3 e6 Nf3 Be7 Bd3 O-O Nbd...   \n",
      "20056          1227  e4 d6 d4 Nf6 e5 dxe5 dxe5 Qxd1+ Kxd1 Nd5 c4 Nb...   \n",
      "20057          1339  d4 d5 Bf4 Na6 e3 e6 c3 Nf6 Nf3 Bd7 Nbd2 b5 Bd3...   \n",
      "\n",
      "      opening_eco                            opening_name  opening_ply  \n",
      "0             D10        Slav Defense: Exchange Variation            5  \n",
      "1             B00  Nimzowitsch Defense: Kennedy Variation            4  \n",
      "2             C20   King's Pawn Game: Leonardis Variation            3  \n",
      "3             D02  Queen's Pawn Game: Zukertort Variation            3  \n",
      "4             C41                        Philidor Defense            5  \n",
      "...           ...                                     ...          ...  \n",
      "20053         A80                           Dutch Defense            2  \n",
      "20054         A41                            Queen's Pawn            2  \n",
      "20055         D00         Queen's Pawn Game: Mason Attack            3  \n",
      "20056         B07                            Pirc Defense            4  \n",
      "20057         D00         Queen's Pawn Game: Mason Attack            3  \n",
      "\n",
      "[19629 rows x 16 columns]\n"
     ]
    }
   ],
   "source": [
    "# Elimina files duplicades completament iguals\n",
    "dades_sense_duplicats = dades.drop_duplicates()\n",
    "\n",
    "print(f\"Abans de treure duplicats: {dades.shape[0]} files\")\n",
    "print(f\"Després de treure duplicats: {dades_sense_duplicats.shape[0]} files\")\n",
    "print(dades_sense_duplicats)\n"
   ]
  },
  {
   "cell_type": "code",
   "execution_count": null,
   "metadata": {},
   "outputs": [
    {
     "name": "stdout",
     "output_type": "stream",
     "text": [
      "Abans de treure duplicats: 19629 files\n",
      "             id  rated  turns victory_status winner increment_code  \\\n",
      "120    XRuQPSzH   True     50         resign  black           10+0   \n",
      "12412  XRuQPSzH   True     50         resign  black           10+0   \n",
      "\n",
      "          white_id  white_rating black_id  black_rating  \\\n",
      "120    chess-brahs          2036     cdvh          1706   \n",
      "12412  chess-brahs          2036     cdvh          1706   \n",
      "\n",
      "                                                   moves opening_eco  \\\n",
      "120    Nf3 d5 g3 c5 Bg2 Nc6 d3 Nf6 O-O e5 Nc3 d4 Ne4 ...         A08   \n",
      "12412  Nf3 d5 g3 c5 Bg2 Nc6 d3 Nf6 O-O e5 Nc3 d4 Ne4 ...         A08   \n",
      "\n",
      "                                 opening_name  opening_ply  \n",
      "120    King's Indian Attack: French Variation            6  \n",
      "12412  King's Indian Attack: French Variation            6  \n"
     ]
    }
   ],
   "source": [
    "dades_sense_columna = dades_sense_duplicats.drop(columns=[\"created_at\",\"last_move_at\"])\n",
    "dades_sense_duplicats_sense_columna = dades.drop_duplicates()\n",
    "\n",
    "#print(dades_sense_columna)\n",
    "print(f\"Abans de treure duplicats: {dades_sense_duplicats_sense_columna.shape[0]} files\")\n",
    "\n",
    "\n",
    "\n",
    "# Seleccionar totes les files amb id XXXX\n",
    "id_seleccionat = \"XRuQPSzH\"\n",
    "files_seleccionades = dades_sense_columna[dades_sense_columna[\"id\"] == id_seleccionat]\n",
    "\n",
    "print(files_seleccionades)"
   ]
  },
  {
   "cell_type": "code",
   "execution_count": null,
   "metadata": {},
   "outputs": [],
   "source": []
  }
 ],
 "metadata": {
  "colab": {
   "provenance": []
  },
  "kernelspec": {
   "display_name": "base",
   "language": "python",
   "name": "python3"
  },
  "language_info": {
   "codemirror_mode": {
    "name": "ipython",
    "version": 3
   },
   "file_extension": ".py",
   "mimetype": "text/x-python",
   "name": "python",
   "nbconvert_exporter": "python",
   "pygments_lexer": "ipython3",
   "version": "3.12.4"
  }
 },
 "nbformat": 4,
 "nbformat_minor": 4
}
