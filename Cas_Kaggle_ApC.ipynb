{
 "cells": [
  {
   "cell_type": "markdown",
   "metadata": {
    "id": "oZMnmdDBCl7F"
   },
   "source": [
    "# Cas Kaggle ApC\n",
    "## Participants\n",
    "Martí Armengod Villar \n",
    "\n",
    "Joan Marc Samó Rojas\n",
    "\n",
    "## Objectius\n",
    "\n",
    "https://www.kaggle.com/datasets/datasnaek/chess\n",
    "\n",
    "\n",
    "En la nostra Base de dades el que volem és ser capaços de predir quin jugador guanyara a partir de la seva llencçada inicial.\n",
    "\n"
   ]
  }
 ],
 "metadata": {
  "colab": {
   "provenance": []
  },
  "kernelspec": {
   "display_name": "Python 3 (ipykernel)",
   "language": "python",
   "name": "python3"
  },
  "language_info": {
   "codemirror_mode": {
    "name": "ipython",
    "version": 3
   },
   "file_extension": ".py",
   "mimetype": "text/x-python",
   "name": "python",
   "nbconvert_exporter": "python",
   "pygments_lexer": "ipython3",
   "version": "3.12.6"
  }
 },
 "nbformat": 4,
 "nbformat_minor": 4
}
